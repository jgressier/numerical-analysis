{
 "cells": [
  {
   "cell_type": "markdown",
   "metadata": {},
   "source": [
    "# Upwind and Central scheme\n"
   ]
  },
  {
   "cell_type": "code",
   "execution_count": 2,
   "metadata": {
    "collapsed": true
   },
   "outputs": [],
   "source": [
    "%matplotlib inline\n",
    "import numpy as np\n",
    "import matplotlib.pyplot as plt"
   ]
  },
  {
   "cell_type": "markdown",
   "metadata": {},
   "source": [
    "On cherche à résoudre l'évolution instationnaire du problème linéaire de convection suivant\n",
    "\n",
    "$$ \\frac{\\partial q}{\\partial t} + a \\frac{\\partial q}{\\partial x} = 0 $$\n",
    "\n",
    "pour la quantité transportée $q(x,t)$ et la condition intiale $q_0(x)$ sur le domaine $[0;\\ell]$ avec des conditions périodiques. On choisit $\\ell=1\\rm~m$ et $a=1\\rm~m/s$. \n"
   ]
  },
  {
   "cell_type": "code",
   "execution_count": null,
   "metadata": {
    "scrolled": true
   },
   "outputs": [],
   "source": [
    "ndof  = 100\n",
    "xi    = np.linspace(0,1,ndof+1)  # grid definition\n",
    "aconv = 1.0                      # Advection velocity\n",
    "\n",
    "def qinit(x):                 # Initial condition\n",
    "    q0 = np.exp(-200.*(x-0.3)**2)\n",
    "    # q0 = .5+.5*np.sin(2*x*np.pi)\n",
    "    # q0 = .5+.5*np.sin(4*x*np.pi)*(x>.25)*(x<.75)\n",
    "    return q0"
   ]
  },
  {
   "cell_type": "markdown",
   "metadata": {},
   "source": [
    "## Integration by the explicit EULER method, decentrated diagram\n",
    "\n",
    " We propose to integrate the convection equation by the classic upwind scheme in the 1st order in time and space\n",
    " $$ q_i^{n+1} = q_i^n-a \\, \\delta t {\\left(\\frac {q^n_i-q^n_ {i-1} {\\delta x} \\right)} $ $\n",
    "\n",
    " 1. Propose physical simulation times for the final solution to be superimposed on the initial condition.\n",
    " \n",
    " You must $ \\qquad a \\cdot \\rm nit \\cdot \\delta t = k \\cdot \\ell $.\n",
    " You can play on $ \\delta t $ or $ \\rm nit $ but we will be forced by stability.\n",
    " "
   ]
  },
  {
   "cell_type": "code",
   "execution_count": null,
   "metadata": {},
   "outputs": [],
   "source": [
    "ndof = 100\n",
    "dx   = 1./ndof                              # cell size\n",
    "x    = np.linspace(-dx/2.,1.+dx/2.,ndof+2)   # cell centers with internal domain + ghost cells (size = ndof+2) \n",
    "\n",
    "t   = 0.      # current time (initialized to zero)\n",
    "dt  = 5e-3    # time step\n",
    "nit = 1000     # number of iterations\n",
    "\n",
    "# q[0] is the left ghost cell, q[1] is the first cell, q[ndof] is the last cell, q[ndof+1] is the right ghost cell\n",
    "# python syntax: q[-1] = q[ndof+1] \n",
    "q    = qinit(x)\n",
    "qnew = q.copy()  # initialize of temporary array\n",
    "\n",
    "for j in range(nit):\n",
    "    # periodic boundary conditions (compute ghost cells)\n",
    "    q[0]  = q[-2]\n",
    "    q[-1] = q[1]\n",
    "    # for all internal points\n",
    "    for i in range(1,ndof+1):\n",
    "        qnew[i] = q[i] - aconv*dt/dx * (q[i]-q[i-1])    \n",
    "    q   = qnew.copy()\n",
    "    t  += dt\n",
    "    \n",
    "plt.plot(x, qinit(x), x, q, linewidth = 2)\n",
    "plt.axis((0,1,-0.1,1.1))\n",
    "plt.title('t = '+str(t))"
   ]
  },
  {
   "cell_type": "markdown",
   "metadata": {},
   "source": [
    "## Lax Wendroff diagram\n",
    "\n",
    " Lax and Wendroff's scheme can be written\n",
    "\n",
    " $$ q_i^{n+1} = q_i^n-\\frac12 \\sigma \\left( q^n_ {i+1} -q^n_ {i-1} \\right)\n",
    " +\\frac12 \\sigma^2 \\left( q^n_ {i+1} -2q^n_ {i}+q^n_ {i-1} \\right) $$\n",
    " With $ \\sigma = a \\, \\delta t/\\delta x $\n",
    "\n",
    " 1. Implement this diagram in the code below.\n",
    " 2. What is his behavior (precision and stability)?\n",
    "\n",
    " This diagram is visibly more precise (blatant on dissipation). But there are some oscillations (this may depend on the stiffness of the solution transported.\n",
    "\n",
    " 3. What is the origin of the different terms of this equation? Can we determine the order of precision?\n",
    "\n",
    " The 1st term is the centered discretization of the transport term (order 2 in expected space). The 2nd term is a distribution term whose intensity is $ a (\\delta t)^2$. This term has no reason to be and can only contribute to the error, except that it is necessarily stabilizing. We can however show (not obvious in this form) that the combination of this term with temporal discretization makes it possible to obtain a diagram of order 2 in time. \n",
    "\n",
    " This scheme can either be generalized in a form of several stages, or include temporal terms in the formulation of the flow. It therefore remains coupled in time and space.\n"
   ]
  },
  {
   "cell_type": "code",
   "execution_count": null,
   "metadata": {},
   "outputs": [],
   "source": [
    "ndof = 100\n",
    "dx   = 1./ndof                              # cell size\n",
    "x    = np.linspace(-dx/2.,1+dx/2.,ndof+2)   # cell centers with internal domain + ghost cells (size = ndof+2) \n",
    "\n",
    "t   = 0.      # current time (initialized to zero)\n",
    "dt  = 5e-3    # time step\n",
    "nit = 1000     # number of iterations\n",
    "\n",
    "# q[0] is the left ghost cell, q[1] is the first cell, q[ndof] is the last cell, q[ndof+1] is the right ghost cell\n",
    "# python syntax: q[-1] = q[ndof+1] \n",
    "q    = qinit(x)\n",
    "qnew = q.copy()  # initialize of temporary array\n",
    "\n",
    "for j in range(nit):\n",
    "    # periodic boundary conditions\n",
    "    q[0]  = q[-2]\n",
    "    q[-1] = q[1]\n",
    "    # for all internal points\n",
    "    for i in range(1,ndof+1):\n",
    "        qnew[i] = q[i] - ( aconv*dt/dx * (q[i+1]-q[i-1]) - (aconv*dt/dx)**2 * (q[i+1]-2*q[i]+q[i-1]) )/2.\n",
    "    q   = qnew.copy()\n",
    "    t  += dt\n",
    "    \n",
    "plt.plot(x, qinit(x), x, q, linewidth = 2)\n",
    "plt.axis((0,1,-0.1,1.1))\n",
    "plt.title('t = '+str(t))"
   ]
  }
 ],
 "metadata": {
  "kernelspec": {
   "display_name": "venv",
   "language": "python",
   "name": "python3"
  },
  "language_info": {
   "codemirror_mode": {
    "name": "ipython",
    "version": 2
   },
   "file_extension": ".py",
   "mimetype": "text/x-python",
   "name": "python",
   "nbconvert_exporter": "python",
   "pygments_lexer": "ipython2",
   "version": "3.9.19"
  }
 },
 "nbformat": 4,
 "nbformat_minor": 2
}
