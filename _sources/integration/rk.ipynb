{
 "cells": [
  {
   "cell_type": "markdown",
   "metadata": {},
   "source": [
    "# Runge-Kutta explicit methods"
   ]
  },
  {
   "cell_type": "markdown",
   "metadata": {},
   "source": [
    "## stability of exponential expansions\n",
    "\n",
    "Runge-Kutta (RK) methods are a class of numerical methods for solving initial value problems (IVP). \n",
    "\n",
    "$$ \\frac{dQ}{dt} = R(Q) = A\\cdot Q $$\n",
    "\n",
    "One integration step is made of several evaluations of the right-hand side of the ODE, named stages. Each stage uses a set of weights for each previous evaluation of $R(Q)$. All coefficients can be displayed in the _Butcher array_.\n",
    "\n",
    "If $R(Q)$ is linear, the theoretical solution is $Q_0 \\exp(At)$. This is a key argument to show that a k-th order RK method defined by $Q^{n+1}=P(A\\delta t)\\cdot Q^n$ should be consistent with the Taylor expansion of $\\exp(A\\delta t)$.\n"
   ]
  },
  {
   "cell_type": "code",
   "execution_count": 45,
   "metadata": {},
   "outputs": [],
   "source": [
    "import math\n",
    "import numpy as np\n",
    "import matplotlib.pyplot as plt\n"
   ]
  },
  {
   "cell_type": "code",
   "execution_count": null,
   "metadata": {},
   "outputs": [],
   "source": [
    "def integrator(order, adt):\n",
    "    \"\"\"returns the Taylor expansion of exp(adt) up to order\"\"\"\n",
    "    return np.sum([1./math.factorial(k) * adt**k for k in range(order+1)], axis=0)\n",
    "\n",
    "fig, ax = plt.subplots(figsize=(4, 6))\n",
    "cmap = plt.get_cmap('tab10')\n",
    "x = np.r_[-4:.5:30j]\n",
    "y = np.r_[-3:3:60j]\n",
    "X, Y = np.meshgrid(x, y)\n",
    "adt = X+Y*1j\n",
    "#\n",
    "ax.axis('equal')\n",
    "ax.grid()\n",
    "for order in range(1, 5):\n",
    "    ax.contour(X, Y, abs(integrator(order, adt)), levels=[1], linewidths=2, colors=[cmap(order)]) # contour() accepts complex values\n"
   ]
  },
  {
   "cell_type": "markdown",
   "metadata": {},
   "source": [
    "## Butcher arrays\n",
    "\n",
    "Instead of using expected properties of the expansion of the propagator, we can actually use the multi-stage definition of RK method to be able to compute actual steps or the equivalent mapping of complex values."
   ]
  },
  {
   "cell_type": "code",
   "execution_count": 47,
   "metadata": {},
   "outputs": [],
   "source": [
    "class integrator():\n",
    "    _butcher = np.array([[0.]])\n",
    "    _weights = np.array([1.])\n",
    "\n",
    "    def __init__(self):\n",
    "        self._nstage = len(self._weights)\n",
    "        assert self._butcher.shape == (self._nstage, self._nstage)\n",
    "\n",
    "    def propagator(self, zarray):\n",
    "        z = zarray.flatten()\n",
    "        R = 1 + z[:, None] * np.dot(self._weights, np.linalg.inv(np.eye(self._nstage)-z[:, None, None]*self._butcher)@np.ones((self._nstage, 1)))\n",
    "        return R.reshape(zarray.shape)"
   ]
  },
  {
   "cell_type": "code",
   "execution_count": null,
   "metadata": {},
   "outputs": [],
   "source": [
    "fig, ax = plt.subplots(figsize=(4, 6))\n",
    "cmap = plt.get_cmap('tab10')\n",
    "x = np.r_[-4:.5:30j]\n",
    "y = np.r_[-3:3:60j]\n",
    "X, Y = np.meshgrid(x, y)\n",
    "adt = X+Y*1j\n",
    "#\n",
    "class rk3ssp(integrator):\n",
    "    _butcher = np.array([ \n",
    "        [0.,  0.,  0.],\n",
    "        [1.,  0.,  0.],\n",
    "        [.25, .25, 0.] ] )\n",
    "    _weights = np.array([1.0, 1.0, 4.0]) / 6.0\n",
    "\n",
    "euler = integrator()\n",
    "rk3 = rk3ssp()\n",
    "\n",
    "ax.axis('equal')\n",
    "ax.grid()\n",
    "for solver in (euler, rk3):\n",
    "    ax.contour(X, Y, np.abs(solver.propagator(adt)), levels=[1], linewidths=2) # contour() accepts complex values\n"
   ]
  },
  {
   "cell_type": "markdown",
   "metadata": {},
   "source": [
    "## error for convection or non-dissipative physics\n",
    "\n",
    "The integrator on one step $\\delta t$ should represent $\\exp(A\\delta t)$. Convection or non-dissipative models are ruled by imaginary eigenvalues. We can then map the integrator on the imaginary axis $\\lambda$ and compare it to the theoretical integrator or propagator $P(\\lambda)$. $\\ln(P(\\lambda))$ is then compared to $\\lambda$ as real and imaginary part in order to separate dissipation and dispersion effects of the approximate integrator. Note that for convection problems, $|\\lambda|\\delta t$ is the cfl number."
   ]
  },
  {
   "cell_type": "code",
   "execution_count": null,
   "metadata": {},
   "outputs": [],
   "source": [
    "cfl = np.geomspace(5e-2, 5, 100)*1j\n",
    "\n",
    "fig, (axr, axi) = plt.subplots(1, 2, figsize=(10, 4))\n",
    "for ax, ylab in zip([axr, axi], ['dissipation error', 'dispersion error']):\n",
    "    ax.set_xlabel(r\"${\\rm cfl}=|\\lambda|\\delta t$\") ; ax.set_ylabel(ylab)\n",
    "    ax.grid()\n",
    "    #ax.set_ylim(1e-4, 2e1)\n",
    "for solver, label in zip([euler, rk3], ['Euler', 'RK3ssp']):\n",
    "    err = np.log(solver.propagator(cfl))-cfl\n",
    "    axr.loglog(abs(cfl), abs(err.real), label=label)\n",
    "    axi.loglog(abs(cfl), abs(err.imag), label=label)\n",
    "axr.legend() ; axi.legend();"
   ]
  },
  {
   "cell_type": "code",
   "execution_count": null,
   "metadata": {},
   "outputs": [],
   "source": []
  }
 ],
 "metadata": {
  "kernelspec": {
   "display_name": "venv",
   "language": "python",
   "name": "python3"
  },
  "language_info": {
   "codemirror_mode": {
    "name": "ipython",
    "version": 3
   },
   "file_extension": ".py",
   "mimetype": "text/x-python",
   "name": "python",
   "nbconvert_exporter": "python",
   "pygments_lexer": "ipython3",
   "version": "3.9.19"
  }
 },
 "nbformat": 4,
 "nbformat_minor": 2
}
