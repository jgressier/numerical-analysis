{
 "cells": [
  {
   "cell_type": "code",
   "execution_count": null,
   "metadata": {},
   "outputs": [],
   "source": []
  },
  {
   "cell_type": "markdown",
   "metadata": {},
   "source": [
    "# von Neumann analysis\n",
    "\n",
    "Here after, flux of a Finite Volume method are defined for a convection equation from left to right.\n",
    "- `upwind1` is a 1st order extrapolation of left cell point\n",
    "- `center2` is a 2-points centered interpolation at the face\n",
    "- `fromm` and `quick` are 2 2nd order 3-points interpolations with different weights\n",
    "- `upwind3` is the only 2rd order interpolation with 3 points (left shifted parabolic interpolation)\n",
    "- `center4` is a 4th order 4-points center interpolation"
   ]
  },
  {
   "cell_type": "code",
   "execution_count": 1,
   "metadata": {},
   "outputs": [],
   "source": [
    "import numpy as np\n",
    "\n",
    "def flux(q, method):\n",
    "    def fluxk(q, k):\n",
    "        return q + .25*(1+k)*(np.roll(q,-1)-q) + .25*(1-k)*(q-np.roll(q,1))\n",
    "    fluxmeth = {\n",
    "        'upwind1' : lambda q: q,\n",
    "        'center2' : lambda q: .5*(q+np.roll(q,-1)),\n",
    "        'fromm' : lambda q: fluxk(q, 0.),\n",
    "        'quick' : lambda q: fluxk(q, .5),\n",
    "        'upwind3' : lambda q: fluxk(q, 1./3.),\n",
    "        'center4' : lambda q: .5*(q+np.roll(q,-1)) - .125*(2./3.)*(np.roll(q,-2)-np.roll(q,-1)-q+np.roll(q,1))\n",
    "    }\n",
    "    if method not in fluxmeth.keys():\n",
    "        KeyError(f\"'{method}' unknown\")\n",
    "    return fluxmeth[method](q)"
   ]
  },
  {
   "cell_type": "markdown",
   "metadata": {},
   "source": [
    "Thought this flux can be used in an actual integration, they are here used to evaluate the complex discretized propagator $P(kh)$ which is compared to the theoretical one $e^{-Ikh}$. "
   ]
  },
  {
   "cell_type": "code",
   "execution_count": 2,
   "metadata": {},
   "outputs": [],
   "source": [
    "def error(kh, method):\n",
    "    imax = 2 # stencil of 5 points\n",
    "    cshift = np.exp(1j*kh) # complex shift to get +1 index\n",
    "    q = np.array([cshift**(i-imax) for i in range(2*imax+1)]) # q[imax] = 1\n",
    "    rhs = -(flux(q, method)-flux(q/cshift, method)) # rhs on imax index\n",
    "    err = rhs[imax] + 1j*kh\n",
    "    return abs(err.real)+1j*abs(err.imag)\n"
   ]
  },
  {
   "cell_type": "markdown",
   "metadata": {},
   "source": [
    "One can then plot the real and imaginary parts of this error that will be named *dissipation* and *dispersion* errors. The errors are plotted against $\\lambda/h = 2\\pi k h$ which is the number of points per wavelength."
   ]
  },
  {
   "cell_type": "code",
   "execution_count": null,
   "metadata": {},
   "outputs": [],
   "source": [
    "import matplotlib.pyplot as plt\n",
    "fig, (axr, axi) = plt.subplots(1, 2, figsize=(10, 4))\n",
    "kh = np.geomspace(5e-2, np.pi, 100)\n",
    "for ax, ylab in zip([axr, axi], ['dissipation error', 'dispersion error']):\n",
    "    ax.set_xlabel('$\\lambda/h$') ; ax.set_ylabel(ylab)\n",
    "    ax.grid()\n",
    "    ax.set_ylim(1e-4, 1e1)\n",
    "for method, sty in zip(['upwind1', 'center2', 'fromm', 'quick', 'upwind3', 'center4'],\n",
    "                       ['-g', '--b', '-r', '-c', '-m', '--y']):\n",
    "    err = np.array([error(ikh, method) for ikh in kh])\n",
    "    axr.loglog(2*np.pi/kh, err.real, sty, label=method)\n",
    "    axi.loglog(2*np.pi/kh, err.imag, sty, label=method)\n",
    "axr.legend() ; axi.legend();\n"
   ]
  },
  {
   "cell_type": "markdown",
   "metadata": {},
   "source": [
    "```{caution} centered schemes have no dissipation error\n",
    "Due tu the symmetry property, the real part of the error is zero. These schemes provide only dispersion errors. It can achieve a higher accuracy but \n",
    "```\n",
    "\n",
    "```{admonition} parity of dissipation and dispersion errors\n",
    ":class: tip\n",
    "The dissipation error is even and the dispersion is odd. That is the reason why \n",
    "- `fromm` `quick` schemes have the dissipation error trend as 3rd order `upwind3`\n",
    "- `upwind1` and 'center2` have the same 2nd order dispersion error\n",
    "- `upwind3` and 'center4` have the same 2nd order dispersion error\n",
    "```"
   ]
  },
  {
   "cell_type": "code",
   "execution_count": null,
   "metadata": {},
   "outputs": [],
   "source": []
  }
 ],
 "metadata": {
  "kernelspec": {
   "display_name": "venv",
   "language": "python",
   "name": "python3"
  },
  "language_info": {
   "codemirror_mode": {
    "name": "ipython",
    "version": 3
   },
   "file_extension": ".py",
   "mimetype": "text/x-python",
   "name": "python",
   "nbconvert_exporter": "python",
   "pygments_lexer": "ipython3",
   "version": "3.9.19"
  }
 },
 "nbformat": 4,
 "nbformat_minor": 2
}
