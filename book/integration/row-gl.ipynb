{
 "cells": [
  {
   "cell_type": "markdown",
   "metadata": {},
   "source": [
    "# ROW and Gauss-Legendre implicit method"
   ]
  },
  {
   "cell_type": "code",
   "execution_count": 18,
   "metadata": {},
   "outputs": [],
   "source": [
    "import numpy as np\n",
    "import matplotlib.pyplot as plt\n",
    "\n",
    "# Define a sample nonlinear system of ODEs for testing\n",
    "def nonlinear_system(t, y):\n",
    "    return np.array([y[1], -y[0] + 0.1 * y[0] * (1 - y[0]**2)])"
   ]
  },
  {
   "cell_type": "code",
   "execution_count": 19,
   "metadata": {},
   "outputs": [],
   "source": [
    "def row2_step(f, t, y, h):\n",
    "    \"\"\"Performs a single integration step using ROW2 method.\"\"\"\n",
    "    # ROW2 Butcher coefficients\n",
    "    a21 = 1 / (2 - np.sqrt(2))\n",
    "    b1 = 1 / (2 - np.sqrt(2))\n",
    "    b2 = 1 - b1\n",
    "\n",
    "    # Calculate intermediate steps\n",
    "    k1 = f(t, y)\n",
    "    k2 = f(t + h / (2 - np.sqrt(2)), y + h * a21 * k1)\n",
    "    \n",
    "    # Update solution\n",
    "    y_next = y + h * (b1 * k1 + b2 * k2)\n",
    "    return y_next"
   ]
  },
  {
   "cell_type": "code",
   "execution_count": 20,
   "metadata": {},
   "outputs": [],
   "source": [
    "def gauss_legendre_step(f, t, y, h):\n",
    "    \"\"\"Performs a single integration step using the two-stage Gauss-Legendre method.\"\"\"\n",
    "    # Gauss-Legendre coefficients for 2-stage method\n",
    "    c1 = 0.5 - np.sqrt(3) / 6\n",
    "    c2 = 0.5 + np.sqrt(3) / 6\n",
    "    a11 = 0.25\n",
    "    a12 = 0.25 - np.sqrt(3) / 6\n",
    "    a21 = 0.25 + np.sqrt(3) / 6\n",
    "    a22 = 0.25\n",
    "    b1 = 0.5\n",
    "    b2 = 0.5\n",
    "\n",
    "    # Initial guesses for k1 and k2\n",
    "    k1 = f(t + c1 * h, y)\n",
    "    k2 = f(t + c2 * h, y)\n",
    "    \n",
    "    # Fixed-point iteration (or nonlinear solver) would be used here for a real implicit method.\n",
    "    for _ in range(5):  # Iterate to refine k1 and k2\n",
    "        k1 = f(t + c1 * h, y + h * (a11 * k1 + a12 * k2))\n",
    "        k2 = f(t + c2 * h, y + h * (a21 * k1 + a22 * k2))\n",
    "    \n",
    "    # Update solution\n",
    "    y_next = y + h * (b1 * k1 + b2 * k2)\n",
    "    return y_next"
   ]
  },
  {
   "cell_type": "code",
   "execution_count": null,
   "metadata": {},
   "outputs": [],
   "source": [
    "# Set initial condition, time step, and time range\n",
    "y0 = [1.0, 0.0]  # Initial values\n",
    "t0 = 0.0\n",
    "tf = 20.0\n",
    "h = 0.01\n",
    "n_steps = int((tf - t0) / h)\n",
    "\n",
    "# Prepare storage for results\n",
    "t_values = [t0]\n",
    "y_values_row2 = [y0]\n",
    "y_values_gauss = [y0]\n",
    "\n",
    "# Perform integration using ROW2 and Gauss-Legendre\n",
    "y_row2 = np.array(y0)\n",
    "y_gauss = np.array(y0)\n",
    "t = t0\n",
    "\n",
    "for _ in range(n_steps):\n",
    "    y_row2 = row2_step(nonlinear_system, t, y_row2, h)\n",
    "    y_gauss = gauss_legendre_step(nonlinear_system, t, y_gauss, h)\n",
    "    \n",
    "    t += h\n",
    "    t_values.append(t)\n",
    "    y_values_row2.append(y_row2)\n",
    "    y_values_gauss.append(y_gauss)\n",
    "\n",
    "# Convert results to arrays for plotting\n",
    "t_values = np.array(t_values)\n",
    "y_values_row2 = np.array(y_values_row2)\n",
    "y_values_gauss = np.array(y_values_gauss)\n",
    "\n",
    "# Plot the results\n",
    "plt.figure(figsize=(10, 6))\n",
    "plt.plot(t_values, y_values_row2[:, 0], label='ROW2 Method (y1)')\n",
    "plt.plot(t_values, y_values_gauss[:, 0], label='Gauss-Legendre Method (y1)', linestyle='--')\n",
    "plt.plot(t_values, y_values_row2[:, 1], label='ROW2 Method (y2)')\n",
    "plt.plot(t_values, y_values_gauss[:, 1], label='Gauss-Legendre Method (y2)', linestyle='--')\n",
    "plt.xlabel('Time')\n",
    "plt.ylabel('Solution')\n",
    "plt.title('Integration of Nonlinear System with ROW2 and Gauss-Legendre Methods')\n",
    "plt.legend()\n",
    "plt.show()"
   ]
  },
  {
   "cell_type": "code",
   "execution_count": null,
   "metadata": {},
   "outputs": [],
   "source": []
  }
 ],
 "metadata": {
  "kernelspec": {
   "display_name": "venv",
   "language": "python",
   "name": "python3"
  },
  "language_info": {
   "codemirror_mode": {
    "name": "ipython",
    "version": 3
   },
   "file_extension": ".py",
   "mimetype": "text/x-python",
   "name": "python",
   "nbconvert_exporter": "python",
   "pygments_lexer": "ipython3",
   "version": "3.9.19"
  }
 },
 "nbformat": 4,
 "nbformat_minor": 2
}
