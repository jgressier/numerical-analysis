{
 "cells": [
  {
   "cell_type": "markdown",
   "metadata": {},
   "source": [
    "# Runge-Kutta explicit methods"
   ]
  },
  {
   "cell_type": "markdown",
   "metadata": {},
   "source": [
    "# Explicit Runge-Kutta methods\n",
    "\n",
    "Runge-Kutta (RK) methods are a class of numerical methods for solving initial value problems (IVP). \n",
    "\n",
    "$$ \\frac{dQ}{dt} = R(Q) = A\\cdot Q $$\n",
    "\n",
    "One integration step is made of several evaluations of the right-hand side of the ODE, named stages. Each stage uses a set of weights for each previous evaluation of $R(Q)$. All coefficients can be displayed in the _Butcher array_.\n",
    "\n",
    "If $R(Q)$ is linear, the theoretical solution is $Q_0 \\exp(At)$. This is a key argument to show that a k-th order RK method defined by $Q^{n+1}=P(A\\delta t)\\cdot Q^n$ should be consistent with the Taylor expansion of $\\exp(A\\delta t)$.\n"
   ]
  },
  {
   "cell_type": "code",
   "execution_count": 20,
   "metadata": {},
   "outputs": [],
   "source": [
    "import math\n",
    "import numpy as np\n",
    "import matplotlib.pyplot as plt\n"
   ]
  },
  {
   "cell_type": "code",
   "execution_count": null,
   "metadata": {},
   "outputs": [],
   "source": [
    "def integrator(order, adt):\n",
    "    \"\"\"returns the Taylor expansion of exp(adt) up to order\"\"\"\n",
    "    return np.sum([1./math.factorial(k) * adt**k for k in range(order+1)], axis=0)\n",
    "\n",
    "fig, ax = plt.subplots(figsize=(4, 6))\n",
    "cmap = plt.get_cmap('tab10')\n",
    "x = np.r_[-4:.5:30j]\n",
    "y = np.r_[-3:3:60j]\n",
    "X, Y = np.meshgrid(x, y)\n",
    "adt = X+Y*1j\n",
    "#\n",
    "ax.axis('equal')\n",
    "ax.grid()\n",
    "for order in range(1, 5):\n",
    "    ax.contour(X, Y, abs(integrator(order, adt)), levels=[1], linewidths=2, colors=[cmap(order)]) # contour() accepts complex values\n"
   ]
  },
  {
   "cell_type": "code",
   "execution_count": null,
   "metadata": {},
   "outputs": [],
   "source": []
  }
 ],
 "metadata": {
  "kernelspec": {
   "display_name": "venv",
   "language": "python",
   "name": "python3"
  },
  "language_info": {
   "codemirror_mode": {
    "name": "ipython",
    "version": 3
   },
   "file_extension": ".py",
   "mimetype": "text/x-python",
   "name": "python",
   "nbconvert_exporter": "python",
   "pygments_lexer": "ipython3",
   "version": "3.9.19"
  }
 },
 "nbformat": 4,
 "nbformat_minor": 2
}
