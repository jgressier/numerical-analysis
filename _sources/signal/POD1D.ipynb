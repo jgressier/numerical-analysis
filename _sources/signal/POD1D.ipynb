{
 "cells": [
  {
   "cell_type": "code",
   "execution_count": null,
   "metadata": {
    "colab": {
     "base_uri": "https://localhost:8080/",
     "height": 766
    },
    "executionInfo": {
     "elapsed": 8501,
     "status": "ok",
     "timestamp": 1674207136596,
     "user": {
      "displayName": "Jérémie Gressier",
      "userId": "11208976068147460747"
     },
     "user_tz": -60
    },
    "id": "WUEjYetmPuMb",
    "outputId": "700d023e-9288-428f-f6cb-2862d4046935"
   },
   "outputs": [],
   "source": [
    "import numpy as np\n",
    "import scipy.linalg as splin\n",
    "import matplotlib.pyplot as plt\n",
    "%matplotlib inline\n",
    "plt.rcParams[\"figure.dpi\"] = \"100\"\n",
    "plt.rcParams[\"animation.html\"] = \"html5\"\n",
    "import time\n",
    "\n",
    "# length, speed, time\n",
    "x0 = .2 ; length = 1. ; k = 5. ; speed = 10. ; tf = .5 \n",
    "n = 1000 # number of points\n",
    "m = 200  # number of snapshots\n",
    "\n",
    "def f_steadypulse(x, t):\n",
    "    return 1+np.exp(-20*(x-x0)**2)*np.cos(2*np.pi*k*t)\n",
    "\n",
    "def f_oscpulse(x, t):\n",
    "    return 1+np.exp(-20*(x-length/2)**2)*np.sin(2*np.pi*k*(x-length/2+x0*np.sin(5*k*t)))\n",
    "\n",
    "def f_convpulse(x, t):\n",
    "    return 1+np.exp(-20*(x-x0-speed*t)**2)\n",
    "\n",
    "def f_pulse_per(x, t):\n",
    "    return 1+np.exp(-10*((x-x0-speed*t))**2)\n",
    "\n",
    "def f_per(x, t):\n",
    "    return 1+np.exp(np.sin(2*k/length*np.pi*(x-x0-speed*t)-1.)) \n",
    "\n",
    "xx = np.linspace(0., length, n)\n",
    "tt = np.linspace(0., tf, m)\n",
    "\n",
    "# build data\n",
    "snapshots = np.zeros((n,m))\n",
    "for j,t in enumerate(tt):\n",
    "    snapshots[:,j] = f_oscpulse(xx, t)\n",
    "\n",
    "import matplotlib.animation as animation\n",
    "fig, ax = plt.subplots()\n",
    "line, = ax.plot(xx, snapshots[:,0])\n",
    "def animate(i):\n",
    "    line.set_ydata(snapshots[:,i])  # update the data.\n",
    "    return line,\n",
    "ani = animation.FuncAnimation(fig, animate, interval=25, blit=True)\n",
    "ani\n"
   ]
  },
  {
   "cell_type": "code",
   "execution_count": null,
   "metadata": {
    "id": "CFazocdcPx-6"
   },
   "outputs": [],
   "source": [
    "def pod_svd(snapshots, maxmode=-1):\n",
    "    # SVD decomposition of A = U.S.V \n",
    "    modes, sval, tcoefs = splin.svd(snapshots)  # returns U, S, V\n",
    "    return modes[:,:maxmode], sval[:maxmode], tcoefs.T[:,:maxmode] # time evolution must be transposed to be columnwise\n",
    "\n",
    "def pod_cov(snapshots, maxmode=-1):\n",
    "    # SVD decomposition of A = U.S.V through eigenvalue problem AT.A\n",
    "    m = snapshots.shape[1]\n",
    "    cov = np.matmul(snapshots.T, snapshots)    # compute covariance matrice cov = AT.A = VT.S2.V\n",
    "    sqval, rmode = splin.eigh(cov)             # eigenvalue of symmetric problem cov = L.D.R\n",
    "    # ineg = np.argwhere(sqval <0.)\n",
    "    # if ineg.size > 0:\n",
    "    #   print(f\"some bad values (negative square): {np.squeeze(ineg)}\")\n",
    "    idex = np.flip(np.argsort(sqval))          # compute (increasing) order and reverse \n",
    "    sval = np.sqrt(abs(sqval[idex]))           # singular values (S) are square root of D (and sort)\n",
    "    rmode = rmode[:,idex]                      # R = V (and sort)\n",
    "    modes = np.matmul(snapshots, rmode.T/sval) # U.S = A.VT \n",
    "    return modes[:,:maxmode], sval[:maxmode], rmode[:,:maxmode]\n",
    "\n"
   ]
  },
  {
   "cell_type": "code",
   "execution_count": null,
   "metadata": {
    "colab": {
     "base_uri": "https://localhost:8080/",
     "height": 1000
    },
    "executionInfo": {
     "elapsed": 3438,
     "status": "ok",
     "timestamp": 1674207233506,
     "user": {
      "displayName": "Jérémie Gressier",
      "userId": "11208976068147460747"
     },
     "user_tz": -60
    },
    "id": "FkUX4x7QP_Tu",
    "outputId": "5e9bc902-3767-4ece-f2e7-179ac1c0d0b5"
   },
   "outputs": [],
   "source": [
    "for thispod in [ pod_svd, pod_cov]:\n",
    "    method = thispod.__name__\n",
    "    tic = time.perf_counter()\n",
    "    modes, sval, tcoefs = thispod(snapshots-np.average(snapshots), maxmode=40)\n",
    "    toc = time.perf_counter()\n",
    "    print(sval[:10])\n",
    "    print(f\"process time of pod {method} is {toc-tic:.3e} seconds\")\n",
    "    fig, ax = plt.subplots(4, 2, figsize=(10,12))\n",
    "    fig.suptitle(method)\n",
    "    ax[0,0].semilogy(sval, 'o',markersize=2)\n",
    "    ax[0,1].plot(xx, snapshots[:,0])\n",
    "    for i in range(3):\n",
    "        ax[i+1,0].plot(xx, modes[:,i])\n",
    "        ax[i+1,1].plot(tt, tcoefs[:,i])\n",
    "    plt.show()\n",
    "    #plt.hold()"
   ]
  },
  {
   "cell_type": "code",
   "execution_count": null,
   "metadata": {
    "id": "bjH_7XPQQcsj"
   },
   "outputs": [],
   "source": []
  }
 ],
 "metadata": {
  "colab": {
   "provenance": []
  },
  "kernelspec": {
   "display_name": "Python 3",
   "name": "python3"
  },
  "language_info": {
   "name": "python"
  }
 },
 "nbformat": 4,
 "nbformat_minor": 0
}
