{
 "cells": [
  {
   "cell_type": "markdown",
   "metadata": {},
   "source": [
    "# FFT of truncated signals"
   ]
  },
  {
   "cell_type": "code",
   "execution_count": 4,
   "metadata": {},
   "outputs": [],
   "source": [
    "import numpy as np"
   ]
  },
  {
   "cell_type": "code",
   "execution_count": 5,
   "metadata": {},
   "outputs": [],
   "source": [
    "def ft(t):\n",
    "    return np.sin(t*2*np.pi)+np.sin(5*t*2*np.pi)\n",
    "\n",
    "nt = 500\n",
    "nT = 100\n",
    "t = np.linspace(0., 1., nt)\n",
    "T = np.linspace(.2, 5, nT)\n",
    "\n",
    "#axeT, axef = np.meshgrid(T, t[0:nt//2], indexing='ij')\n",
    "axeT = np.zeros((nT, nt//2))\n",
    "axef = np.zeros((nT, nt//2))\n",
    "mapf = np.zeros((nT, nt//2))"
   ]
  },
  {
   "cell_type": "code",
   "execution_count": null,
   "metadata": {},
   "outputs": [],
   "source": [
    "import matplotlib.pyplot as plt\n",
    "#\n",
    "fig, ax = plt.subplots(1,2, figsize=(16,8))\n",
    "#\n",
    "for i, iT in enumerate(T):\n",
    "    signal = ft(t*iT)#*np.hanning(nt)\n",
    "    mapf[i,:] = np.abs(np.fft.fft(signal))[0:nt//2]\n",
    "    axef[i,:] = np.fft.fftfreq(signal.size, d=iT/nt)[0:nt//2] # linspace(0, nt/2/iT, nt//2)\n",
    "    axeT[i,:] = iT\n",
    "ax[0].contourf(axeT, axef, mapf)\n",
    "ax[0].set_ylim(0, 10.)\n",
    "#\n",
    "for i, iT in enumerate(T):\n",
    "    signal = ft(t*iT)*np.hanning(nt)\n",
    "    mapf[i,:] = np.abs(np.fft.fft(signal))[0:nt//2]\n",
    "    axef[i,:] = np.fft.fftfreq(signal.size, d=iT/nt)[0:nt//2] # linspace(0, nt/2/iT, nt//2)\n",
    "    axeT[i,:] = iT\n",
    "ax[1].contourf(axeT, axef, mapf)\n",
    "ax[1].set_ylim(0, 10.)\n"
   ]
  },
  {
   "cell_type": "code",
   "execution_count": null,
   "metadata": {},
   "outputs": [],
   "source": []
  },
  {
   "cell_type": "code",
   "execution_count": null,
   "metadata": {},
   "outputs": [],
   "source": []
  }
 ],
 "metadata": {
  "kernelspec": {
   "display_name": "Python 3",
   "language": "python",
   "name": "python3"
  },
  "language_info": {
   "codemirror_mode": {
    "name": "ipython",
    "version": 3
   },
   "file_extension": ".py",
   "mimetype": "text/x-python",
   "name": "python",
   "nbconvert_exporter": "python",
   "pygments_lexer": "ipython3",
   "version": "3.7.9"
  }
 },
 "nbformat": 4,
 "nbformat_minor": 4
}
