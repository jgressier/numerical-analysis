{
 "cells": [
  {
   "cell_type": "markdown",
   "metadata": {},
   "source": [
    "# 2D FFT of space/time signal"
   ]
  },
  {
   "cell_type": "code",
   "execution_count": 1,
   "metadata": {
    "id": "447-yuoJ-qpU"
   },
   "outputs": [],
   "source": [
    "import numpy as np"
   ]
  },
  {
   "cell_type": "code",
   "execution_count": 2,
   "metadata": {
    "id": "-e_NIA30-qpV"
   },
   "outputs": [],
   "source": [
    "uconv = [30, 130., -70.]\n",
    "kmax = 30.\n",
    "\n",
    "def signal(x, t):\n",
    "    f = 0.\n",
    "    nwave = 50\n",
    "    for u in uconv:\n",
    "        for a, k, x0 in zip(np.random.rand(nwave), kmax*np.random.rand(nwave), np.random.rand(nwave)):\n",
    "            f += a*np.sin(2*np.pi*k*(x-x0-u*t))\n",
    "    return f\n",
    "\n",
    "nt = 2048\n",
    "nx = 512\n",
    "ttot = .04\n",
    "x = np.linspace(0., 1., nx)\n",
    "t = np.linspace(0., ttot, nt)"
   ]
  },
  {
   "cell_type": "code",
   "execution_count": null,
   "metadata": {
    "colab": {
     "base_uri": "https://localhost:8080/",
     "height": 849,
     "output_embedded_package_id": "1VPJpJcR2OH3yNTl66_blgGcUDAwLYZpx"
    },
    "executionInfo": {
     "elapsed": 93455,
     "status": "ok",
     "timestamp": 1699602282527,
     "user": {
      "displayName": "Jérémie Gressier",
      "userId": "11208976068147460747"
     },
     "user_tz": -60
    },
    "id": "GVsOebayxwvE",
    "outputId": "944a2ad4-dc32-4158-ccde-8002a5938616"
   },
   "outputs": [],
   "source": [
    "xx, tt = np.meshgrid(x,t)\n",
    "sig = signal(xx, tt)\n",
    "#\n",
    "import matplotlib.pyplot as plt\n",
    "plt.rc('animation', html='jshtml')\n",
    "import matplotlib.animation as pltanim\n",
    "fig, ax = plt.subplots(1,1, figsize=(10,4))\n",
    "line, = ax.plot(x, sig[0,:])\n",
    "skip = 8 ; anim = pltanim.FuncAnimation(fig, lambda it: line.set_ydata(sig[skip*it,:]), frames=nt//skip, interval=50, repeat=True)\n",
    "# skip = 8 ; anim = pltanim.FuncAnimation(fig, lambda it: ax.plot(x, sig[skip*it,:]), frames=nt//skip, interval=20, repeat=True)\n",
    "anim"
   ]
  },
  {
   "cell_type": "code",
   "execution_count": null,
   "metadata": {
    "colab": {
     "base_uri": "https://localhost:8080/",
     "height": 539
    },
    "executionInfo": {
     "elapsed": 8,
     "status": "ok",
     "timestamp": 1699601836356,
     "user": {
      "displayName": "Jérémie Gressier",
      "userId": "11208976068147460747"
     },
     "user_tz": -60
    },
    "id": "OJL5Vr-j-qpW",
    "outputId": "0078d2e4-a4e4-4f8b-c1a4-514c12527517"
   },
   "outputs": [],
   "source": [
    "sig *= np.hanning(nt)[:,np.newaxis] * np.hanning(nx)[np.newaxis,:]\n",
    "mapf = np.abs(np.fft.fft2(sig))\n",
    "mapf = np.fft.fftshift(mapf)\n",
    "axek = -np.fft.fftshift(np.fft.fftfreq(sig.shape[1], d=1./nx))\n",
    "axef = np.fft.fftshift(np.fft.fftfreq(sig.shape[0], d=ttot/nt))\n",
    "#\n",
    "fig, ax = plt.subplots(1,1, figsize=(14,6))\n",
    "#\n",
    "ax.pcolormesh(axek, axef, mapf, shading='auto')\n",
    "ax.set_xlim(-1.2*kmax, 1.2*kmax)\n",
    "ax.set_ylim(0, kmax*np.abs(np.max(uconv)))\n"
   ]
  },
  {
   "cell_type": "code",
   "execution_count": null,
   "metadata": {
    "id": "jNrv6X5R-qpW"
   },
   "outputs": [],
   "source": []
  },
  {
   "cell_type": "code",
   "execution_count": null,
   "metadata": {
    "id": "ezOetjne-qpW"
   },
   "outputs": [],
   "source": []
  },
  {
   "cell_type": "code",
   "execution_count": null,
   "metadata": {
    "id": "gyfCfl-g-qpW"
   },
   "outputs": [],
   "source": []
  }
 ],
 "metadata": {
  "colab": {
   "provenance": []
  },
  "kernelspec": {
   "display_name": "venv",
   "language": "python",
   "name": "python3"
  },
  "language_info": {
   "codemirror_mode": {
    "name": "ipython",
    "version": 3
   },
   "file_extension": ".py",
   "mimetype": "text/x-python",
   "name": "python",
   "nbconvert_exporter": "python",
   "pygments_lexer": "ipython3",
   "version": "3.9.19"
  }
 },
 "nbformat": 4,
 "nbformat_minor": 0
}
