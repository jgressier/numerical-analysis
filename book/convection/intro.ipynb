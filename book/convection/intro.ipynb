{
 "cells": [
  {
   "cell_type": "markdown",
   "metadata": {},
   "source": [
    "# Upwind and Central scheme\n",
    "\n"
   ]
  },
  {
   "cell_type": "code",
   "execution_count": 2,
   "metadata": {
    "collapsed": true
   },
   "outputs": [],
   "source": [
    "%matplotlib inline\n",
    "import numpy as np\n",
    "import matplotlib.pyplot as plt"
   ]
  },
  {
   "cell_type": "markdown",
   "metadata": {},
   "source": [
    "On cherche à résoudre l'évolution instationnaire du problème linéaire de convection suivant\n",
    "\n",
    "$$ \\frac{\\partial q}{\\partial t} + a \\frac{\\partial q}{\\partial x} = 0 $$\n",
    "\n",
    "pour la quantité transportée $q(x,t)$ et la condition intiale $q_0(x)$ sur le domaine $[0;\\ell]$ avec des conditions périodiques. On choisit $\\ell=1\\rm~m$ et $a=1\\rm~m/s$. \n",
    "\n",
    "\n",
    "## Condition initiale et solution théorique\n",
    "\n",
    "1. Discrétiser et tracer la solution initiale et la solution théorique à $t=0.6\\rm~s$\n",
    "2. Que se passe-t-il pour des grands temps d'intégration si le problème est bien périodique ?\n",
    "<div class=\"alert alert-block alert-info\">\n",
    "Si la solution n'est pas réellement définie comme périodique, le motif centré sur le domaine sort. Le motif périodique à gauche devrait rentrer dans le domaine.\n",
    "</div>\n"
   ]
  },
  {
   "cell_type": "code",
   "execution_count": null,
   "metadata": {
    "scrolled": true
   },
   "outputs": [],
   "source": [
    "ndof  = 100\n",
    "xi    = np.linspace(0,1,ndof+1)  # grid definition\n",
    "aconv = 1.0                      # Advection velocity\n",
    "\n",
    "def qinit(x):                 # Initial condition\n",
    "    q0 = np.exp(-200.*(x-0.3)**2)\n",
    "    # q0 = .5+.5*np.sin(2*x*np.pi)\n",
    "    # q0 = .5+.5*np.sin(4*x*np.pi)*(x>.25)*(x<.75)\n",
    "    return q0\n",
    "\n",
    "tf = .5 \n",
    "plt.plot(xi, qinit(xi), xi, qinit(xi-aconv*tf))"
   ]
  }
 ],
 "metadata": {
  "kernelspec": {
   "display_name": "Python 2",
   "language": "python",
   "name": "python2"
  },
  "language_info": {
   "codemirror_mode": {
    "name": "ipython",
    "version": 2
   },
   "file_extension": ".py",
   "mimetype": "text/x-python",
   "name": "python",
   "nbconvert_exporter": "python",
   "pygments_lexer": "ipython2",
   "version": "2.7.9"
  }
 },
 "nbformat": 4,
 "nbformat_minor": 2
}
